{
 "cells": [
  {
   "cell_type": "code",
   "execution_count": 1,
   "source": [
    "# A list of my grades.\r\n",
    "my_grades = ['B', 'C', 'B' , 'D']"
   ],
   "outputs": [],
   "metadata": {}
  },
  {
   "cell_type": "code",
   "execution_count": 2,
   "source": [
    "# Import pandas.\r\n",
    "import pandas as pd\r\n",
    "# Convert the my_grades to a Series\r\n",
    "my_grades = pd.Series(my_grades)\r\n",
    "my_grades"
   ],
   "outputs": [
    {
     "output_type": "execute_result",
     "data": {
      "text/plain": [
       "0    B\n",
       "1    C\n",
       "2    B\n",
       "3    D\n",
       "dtype: object"
      ]
     },
     "metadata": {},
     "execution_count": 2
    }
   ],
   "metadata": {}
  },
  {
   "cell_type": "code",
   "execution_count": 4,
   "source": [
    "# Change the grades by one letter grade.\r\n",
    "my_grades.map({'B': 'A', 'C': 'B', 'D': 'C'})"
   ],
   "outputs": [
    {
     "output_type": "execute_result",
     "data": {
      "text/plain": [
       "0    A\n",
       "1    B\n",
       "2    A\n",
       "3    C\n",
       "dtype: object"
      ]
     },
     "metadata": {},
     "execution_count": 4
    }
   ],
   "metadata": {}
  },
  {
   "cell_type": "code",
   "execution_count": 5,
   "source": [
    "# Using the format() function.\r\n",
    "my_grades = [92.34, 84.56, 86.78, 98.32]\r\n",
    "\r\n",
    "for grade in my_grades:\r\n",
    "    print(\"{:.0f}\".format(grade))"
   ],
   "outputs": [
    {
     "output_type": "stream",
     "name": "stdout",
     "text": [
      "92\n",
      "85\n",
      "87\n",
      "98\n"
     ]
    }
   ],
   "metadata": {}
  },
  {
   "cell_type": "code",
   "execution_count": 6,
   "source": [
    "# Convert the numerical grades to a Series.\r\n",
    "my_grades = pd.Series([92.34, 84.56, 86.78, 78.32])\r\n",
    "my_grades"
   ],
   "outputs": [
    {
     "output_type": "execute_result",
     "data": {
      "text/plain": [
       "0    92.34\n",
       "1    84.56\n",
       "2    86.78\n",
       "3    78.32\n",
       "dtype: float64"
      ]
     },
     "metadata": {},
     "execution_count": 6
    }
   ],
   "metadata": {}
  },
  {
   "cell_type": "code",
   "execution_count": 7,
   "source": [
    "# Format the grades to the nearest whole number percent.\r\n",
    "my_grades.map(\"{:.0f}\".format)"
   ],
   "outputs": [
    {
     "output_type": "execute_result",
     "data": {
      "text/plain": [
       "0    92\n",
       "1    85\n",
       "2    87\n",
       "3    78\n",
       "dtype: object"
      ]
     },
     "metadata": {},
     "execution_count": 7
    }
   ],
   "metadata": {}
  }
 ],
 "metadata": {
  "orig_nbformat": 4,
  "language_info": {
   "name": "python",
   "version": "3.7.10",
   "mimetype": "text/x-python",
   "codemirror_mode": {
    "name": "ipython",
    "version": 3
   },
   "pygments_lexer": "ipython3",
   "nbconvert_exporter": "python",
   "file_extension": ".py"
  },
  "kernelspec": {
   "name": "python3",
   "display_name": "Python 3.7.10 64-bit ('PythonData': conda)"
  },
  "interpreter": {
   "hash": "20e42fc53d77a2ba94d1543f0bc4fe477b7812356aaec9b4575db5e6c2c825a1"
  }
 },
 "nbformat": 4,
 "nbformat_minor": 2
}